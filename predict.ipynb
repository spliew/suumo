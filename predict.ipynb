{
 "cells": [
  {
   "cell_type": "code",
   "execution_count": 217,
   "metadata": {},
   "outputs": [
    {
     "name": "stderr",
     "output_type": "stream",
     "text": [
      "/usr/local/lib/python3.6/site-packages/bs4/__init__.py:181: UserWarning: No parser was explicitly specified, so I'm using the best available HTML parser for this system (\"lxml\"). This usually isn't a problem, but if you run this code on another system, or in a different virtual environment, it may use a different parser and behave differently.\n",
      "\n",
      "The code that caused this warning is on line 193 of the file /usr/local/Cellar/python/3.6.4_4/Frameworks/Python.framework/Versions/3.6/lib/python3.6/runpy.py. To get rid of this warning, change code that looks like this:\n",
      "\n",
      " BeautifulSoup([your markup])\n",
      "\n",
      "to this:\n",
      "\n",
      " BeautifulSoup([your markup], \"lxml\")\n",
      "\n",
      "  markup_type=markup_type))\n"
     ]
    }
   ],
   "source": [
    "from bs4 import BeautifulSoup\n",
    "import requests\n",
    "import pandas as pd\n",
    "from pandas import Series, DataFrame\n",
    "import time\n",
    "\n",
    "#URL（東京都足立区の賃貸住宅情報 検索結果の1ページ目）\n",
    "url = 'https://suumo.jp/chintai/jnc_000040761994/?bc=100123545636'\n",
    "\n",
    "#データ取得\n",
    "result = requests.get(url)\n",
    "c = result.content\n",
    "\n",
    "#HTMLを元に、オブジェクトを作る\n",
    "soup = BeautifulSoup(c)\n"
   ]
  },
  {
   "cell_type": "code",
   "execution_count": 218,
   "metadata": {
    "collapsed": true
   },
   "outputs": [],
   "source": [
    "body = soup.find(\"body\")\n",
    "head = soup.find(\"head\")"
   ]
  },
  {
   "cell_type": "code",
   "execution_count": 219,
   "metadata": {},
   "outputs": [],
   "source": [
    "kai = body.find_all('td',text=re.compile('階'))[0].text"
   ]
  },
  {
   "cell_type": "code",
   "execution_count": 220,
   "metadata": {},
   "outputs": [],
   "source": [
    "kai1 = kai.split('/')[0][0]\n",
    "height = kai.split('/')[1][0]"
   ]
  },
  {
   "cell_type": "code",
   "execution_count": 221,
   "metadata": {
    "collapsed": true
   },
   "outputs": [],
   "source": [
    "text =  str(head.find_all(\"script\",{'type':'text/javascript'})[-2])"
   ]
  },
  {
   "cell_type": "code",
   "execution_count": 222,
   "metadata": {
    "collapsed": true
   },
   "outputs": [],
   "source": [
    "test = text.split('{')[1].split('}')[0].replace('\\n\\t','').replace('\\n','')"
   ]
  },
  {
   "cell_type": "code",
   "execution_count": 223,
   "metadata": {},
   "outputs": [],
   "source": [
    "for i in test.split(','):\n",
    "    if 'shikugunNm' in i:\n",
    "        pig = re.findall('\"([^\"]*)\"', i)[0]\n",
    "        if '川崎市' in pig:\n",
    "            pig = pig.split('川崎市')[1]\n",
    "    if 'madoriDisp' in i:\n",
    "        madori = re.findall('\"([^\"]*)\"', i)[0]\n",
    "    if 'chikugonensu' in i:\n",
    "        chiku = re.findall('\"([^\"]*)\"', i)[0]\n",
    "    if 'mensekiDisp' in i:\n",
    "        menseki = re.findall('\"([^\"]*)\"', i)[0]\n",
    "    if 'ensenNm1' in i:\n",
    "        sen1 = re.findall('\"([^\"]*)\"', i)[0]\n",
    "    if 'ekiNm1' in i:\n",
    "        eki1 = re.findall('\"([^\"]*)\"', i)[0]\n",
    "    if 'ensenNm2' in i:\n",
    "        sen2 = re.findall('\"([^\"]*)\"', i)[0]\n",
    "    if 'ekiNm2' in i:\n",
    "        eki2 = re.findall('\"([^\"]*)\"', i)[0]\n",
    "    if 'ensenNm3' in i:\n",
    "        sen3 = re.findall('\"([^\"]*)\"', i)[0]\n",
    "    if 'ekiNm3' in i:\n",
    "        eki3 = re.findall('\"([^\"]*)\"', i)[0]\n",
    "    if 'tohoJikan1' in i:\n",
    "        toho1 = re.findall('\"([^\"]*)\"', i)[0]\n",
    "    if 'tohoJikan2' in i:\n",
    "        toho2 = re.findall('\"([^\"]*)\"', i)[0]\n",
    "    if 'tohoJikan3' in i:\n",
    "        toho3 = re.findall('\"([^\"]*)\"', i)[0]\n",
    "    if 'busJikan1' in i:\n",
    "        bus1 = re.findall('\"([^\"]*)\"', i)[0]\n",
    "    if 'busJikan2' in i:\n",
    "        bus2 = re.findall('\"([^\"]*)\"', i)[0]\n",
    "    if 'busJikan3' in i:\n",
    "        bus3 = re.findall('\"([^\"]*)\"', i)[0]\n",
    "    "
   ]
  },
  {
   "cell_type": "code",
   "execution_count": 224,
   "metadata": {
    "collapsed": true
   },
   "outputs": [],
   "source": [
    "df1 = pd.read_csv('suumo_tokyo0.csv', sep = '\\t',encoding='utf-16')"
   ]
  },
  {
   "cell_type": "markdown",
   "metadata": {},
   "source": [
    "区\t間取りDK\t間取りK\t間取りL\t間取りS\t築年数\t建物高さ\t階1\t専有面積\t路線1\t駅1\t徒歩1\t路線2\t駅2\t徒歩2\t路線3\t駅3\t徒歩3"
   ]
  },
  {
   "cell_type": "code",
   "execution_count": 225,
   "metadata": {
    "collapsed": true
   },
   "outputs": [],
   "source": [
    "dk = 0\n",
    "k = 0\n",
    "l = 0\n",
    "s = 0"
   ]
  },
  {
   "cell_type": "code",
   "execution_count": 226,
   "metadata": {
    "collapsed": true
   },
   "outputs": [],
   "source": [
    "if 'DK' in madori:\n",
    "    dk =1\n",
    "    madori.replace('DK','')\n",
    "if 'K' in madori:\n",
    "    k = 1\n",
    "if 'l' in madori:\n",
    "    l = 1\n",
    "if 's' in madori:\n",
    "    s = 1"
   ]
  },
  {
   "cell_type": "code",
   "execution_count": 227,
   "metadata": {
    "collapsed": true
   },
   "outputs": [],
   "source": [
    "ans = [pig,dk,k,l,s,chiku,height,kai1,menseki,sen1,eki1+'駅',toho1,sen2,eki2+'駅',toho2,sen3,eki3+'駅',toho3,bus1,bus2,bus3]"
   ]
  },
  {
   "cell_type": "code",
   "execution_count": 228,
   "metadata": {},
   "outputs": [
    {
     "data": {
      "text/plain": [
       "['幸区',\n",
       " 0,\n",
       " 1,\n",
       " 0,\n",
       " 0,\n",
       " '11',\n",
       " '3',\n",
       " '1',\n",
       " '19.44',\n",
       " 'ＪＲ京浜東北線',\n",
       " '川崎駅',\n",
       " '10',\n",
       " 'ＪＲ南武線',\n",
       " '尻手駅',\n",
       " '6',\n",
       " '京急本線',\n",
       " '京急川崎駅',\n",
       " '15',\n",
       " 0,\n",
       " 0,\n",
       " 0]"
      ]
     },
     "execution_count": 228,
     "metadata": {},
     "output_type": "execute_result"
    }
   ],
   "source": [
    "ans"
   ]
  },
  {
   "cell_type": "code",
   "execution_count": null,
   "metadata": {
    "collapsed": true
   },
   "outputs": [],
   "source": []
  },
  {
   "cell_type": "code",
   "execution_count": null,
   "metadata": {
    "collapsed": true
   },
   "outputs": [],
   "source": []
  }
 ],
 "metadata": {
  "kernelspec": {
   "display_name": "Python 3",
   "language": "python",
   "name": "python3"
  },
  "language_info": {
   "codemirror_mode": {
    "name": "ipython",
    "version": 3
   },
   "file_extension": ".py",
   "mimetype": "text/x-python",
   "name": "python",
   "nbconvert_exporter": "python",
   "pygments_lexer": "ipython3",
   "version": "3.6.5"
  }
 },
 "nbformat": 4,
 "nbformat_minor": 2
}
